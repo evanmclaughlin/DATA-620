{
 "cells": [
  {
   "cell_type": "code",
   "execution_count": 2,
   "id": "a50d8080",
   "metadata": {},
   "outputs": [],
   "source": [
    "import networkx as nx\n",
    "import urllib.request"
   ]
  },
  {
   "cell_type": "code",
   "execution_count": 3,
   "id": "58f0b4fa",
   "metadata": {
    "scrolled": true
   },
   "outputs": [
    {
     "data": {
      "text/plain": [
       "('facebook_combined.txt.gz', <http.client.HTTPMessage at 0x1f29f6ff890>)"
      ]
     },
     "execution_count": 3,
     "metadata": {},
     "output_type": "execute_result"
    }
   ],
   "source": [
    "# The Facebook Dataset from the SNAP directory represents a good dataset for analysis for our purposes\n",
    "facebook = \"https://snap.stanford.edu/data/facebook_combined.txt.gz\"\n",
    "urllib.request.urlretrieve(facebook, \"facebook_combined.txt.gz\")\n"
   ]
  },
  {
   "cell_type": "code",
   "execution_count": 5,
   "id": "1eb0a65f",
   "metadata": {},
   "outputs": [],
   "source": [
    "# First, let's read the graph from the text file and calculate the diameter\n",
    "facebookgraph = nx.read_edgelist(\"facebook_combined.txt.gz\")\n",
    "\n",
    "# Calculate the diameter of the graph\n",
    "dia_facebook = nx.diameter(facebookgraph)\n"
   ]
  },
  {
   "cell_type": "code",
   "execution_count": 9,
   "id": "8549d811",
   "metadata": {},
   "outputs": [
    {
     "name": "stdout",
     "output_type": "stream",
     "text": [
      "Facebook Graph Diameter: 8\n",
      "Degree Centrality of the node with the highest degree: 0.258791480931154\n",
      "Node with the highest degree centrality: 107\n"
     ]
    }
   ],
   "source": [
    "# We've determined that degree cetrality is a useful metric to assess for this dataset.\n",
    "# It measures the \"importance\" of a FB user based on their number of connections. Higher degree centrality = more connections\n",
    "\n",
    "# This function will calculate degree centrality for each node. We would also benefit from establishing which node has the highest degree centrality.\n",
    "degree_centrality = nx.degree_centrality(facebookgraph)\n",
    "max_degree_node = max(degree_centrality, key=degree_centrality.get)\n",
    "max_degree_value = degree_centrality[max_degree_node]\n",
    "\n",
    "# Let's take a look at what we've created\n",
    "print(f\"Facebook Graph Diameter: {dia_facebook}\")\n",
    "print(f\"Degree Centrality of the node with the highest degree: {max_degree_value}\")\n",
    "print(f\"Node with the highest degree centrality: {max_degree_node}\")"
   ]
  },
  {
   "cell_type": "code",
   "execution_count": null,
   "id": "39ba3c20",
   "metadata": {},
   "outputs": [],
   "source": [
    "# The diameter value of 8 represents the longest path between two members of the network.\n",
    "# the degree centrality metric identifies those users with the highest centrality, or largest network."
   ]
  }
 ],
 "metadata": {
  "kernelspec": {
   "display_name": "Python 3 (ipykernel)",
   "language": "python",
   "name": "python3"
  },
  "language_info": {
   "codemirror_mode": {
    "name": "ipython",
    "version": 3
   },
   "file_extension": ".py",
   "mimetype": "text/x-python",
   "name": "python",
   "nbconvert_exporter": "python",
   "pygments_lexer": "ipython3",
   "version": "3.11.5"
  }
 },
 "nbformat": 4,
 "nbformat_minor": 5
}
